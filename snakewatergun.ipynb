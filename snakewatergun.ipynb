{
 "cells": [
  {
   "cell_type": "code",
   "execution_count": 1,
   "metadata": {},
   "outputs": [
    {
     "name": "stdin",
     "output_type": "stream",
     "text": [
      "snake,water,gun: water\n"
     ]
    },
    {
     "name": "stdout",
     "output_type": "stream",
     "text": [
      "your guess water and computer guess is snake \n",
      "\n",
      "computer wins 1 point \n",
      "\n",
      "computer_point is 1 and your point is 0 \n",
      " \n",
      "9 is left out of 10 \n",
      "\n"
     ]
    },
    {
     "name": "stdin",
     "output_type": "stream",
     "text": [
      "snake,water,gun: gun\n"
     ]
    },
    {
     "name": "stdout",
     "output_type": "stream",
     "text": [
      "your guess gun and computer guess is snake \n",
      "\n",
      "Human wins 1 point \n",
      "\n",
      "computer_point is 1 and your point is 1 \n",
      "\n",
      "8 is left out of 10 \n",
      "\n"
     ]
    },
    {
     "name": "stdin",
     "output_type": "stream",
     "text": [
      "snake,water,gun: gun\n"
     ]
    },
    {
     "name": "stdout",
     "output_type": "stream",
     "text": [
      "game is tie\n",
      "7 is left out of 10 \n",
      "\n"
     ]
    },
    {
     "name": "stdin",
     "output_type": "stream",
     "text": [
      "snake,water,gun: water\n"
     ]
    },
    {
     "name": "stdout",
     "output_type": "stream",
     "text": [
      "your guess water and computer guess is snake \n",
      "\n",
      "computer wins 1 point \n",
      "\n",
      "computer_point is 2 and your point is 1 \n",
      " \n",
      "6 is left out of 10 \n",
      "\n"
     ]
    },
    {
     "name": "stdin",
     "output_type": "stream",
     "text": [
      "snake,water,gun: gun\n"
     ]
    },
    {
     "name": "stdout",
     "output_type": "stream",
     "text": [
      "game is tie\n",
      "5 is left out of 10 \n",
      "\n"
     ]
    },
    {
     "name": "stdin",
     "output_type": "stream",
     "text": [
      "snake,water,gun: gun\n"
     ]
    },
    {
     "name": "stdout",
     "output_type": "stream",
     "text": [
      "your guess gun and computer guess is water \n",
      "\n",
      "computer wins 1 point \n",
      "\n",
      "computer_point is 3 and your point is 1 \n",
      " \n",
      "4 is left out of 10 \n",
      "\n"
     ]
    },
    {
     "name": "stdin",
     "output_type": "stream",
     "text": [
      "snake,water,gun: snake\n"
     ]
    },
    {
     "name": "stdout",
     "output_type": "stream",
     "text": [
      "your guess snake and computer guess is water \n",
      "\n",
      "Human wins 1 point \n",
      "\n",
      "computer_point is 3 and your point is 2 \n",
      "\n",
      "3 is left out of 10 \n",
      "\n"
     ]
    },
    {
     "name": "stdin",
     "output_type": "stream",
     "text": [
      "snake,water,gun: gun\n"
     ]
    },
    {
     "name": "stdout",
     "output_type": "stream",
     "text": [
      "game is tie\n",
      "2 is left out of 10 \n",
      "\n"
     ]
    },
    {
     "name": "stdin",
     "output_type": "stream",
     "text": [
      "snake,water,gun: gun\n"
     ]
    },
    {
     "name": "stdout",
     "output_type": "stream",
     "text": [
      "game is tie\n",
      "1 is left out of 10 \n",
      "\n"
     ]
    },
    {
     "name": "stdin",
     "output_type": "stream",
     "text": [
      "snake,water,gun: gun\n"
     ]
    },
    {
     "name": "stdout",
     "output_type": "stream",
     "text": [
      "your guess gun and computer guess is snake \n",
      "\n",
      "Human wins 1 point \n",
      "\n",
      "computer_point is 3 and your point is 3 \n",
      "\n",
      "0 is left out of 10 \n",
      "\n",
      "Game over\n",
      "Tie\n",
      "your point is 3 and computer point is 3\n"
     ]
    }
   ],
   "source": [
    "# Snake water gun\n",
    "\n",
    "import random\n",
    "li = ['snake','water','gun']\n",
    "\n",
    "chance = 10\n",
    "no_of_chance = 0\n",
    "computer_point = 0\n",
    "human_point = 0\n",
    "\n",
    "\n",
    "# making the game in while\n",
    "while no_of_chance < chance:\n",
    "    name = input('snake,water,gun:')\n",
    "    _random = random.choice(li)\n",
    "\n",
    "    if name == _random:\n",
    "        print(\"game is tie\")\n",
    "\n",
    "    # if user enter s\n",
    "    elif name == \"snake\" and _random == \"gun\":\n",
    "        computer_point = computer_point + 1\n",
    "        print(f\"your guess {name} and computer guess is {_random} \\n\")\n",
    "        print(\"computer wins 1 point \\n\")\n",
    "        print(f\"computer_point is {computer_point} and your point is {human_point} \\n \")\n",
    "\n",
    "    elif name == \"snake\" and _random == \"water\":\n",
    "        human_point = human_point + 1\n",
    "        print(f\"your guess {name} and computer guess is {_random} \\n\")\n",
    "        print(\"Human wins 1 point \\n\")\n",
    "        print(f\"computer_point is {computer_point} and your point is {human_point} \\n\")\n",
    "\n",
    "    # if user enter water\n",
    "    elif name == \"water\" and _random == \"snake\":\n",
    "        computer_point = computer_point + 1\n",
    "        print(f\"your guess {name} and computer guess is {_random} \\n\")\n",
    "        print(\"computer wins 1 point \\n\")\n",
    "        print(f\"computer_point is {computer_point} and your point is {human_point} \\n \")\n",
    "\n",
    "    elif name == \"water\" and _random == \"gun\":\n",
    "        human_point = human_point + 1\n",
    "        print(f\"your guess {name} and computer guess is {_random} \\n\")\n",
    "        print(\"Human wins 1 point \\n\")\n",
    "        print(f\"computer_point is {computer_point} and your point is {human_point} \\n\")\n",
    "\n",
    "    # if user enter gun\n",
    "\n",
    "    elif name == \"gun\" and _random == \"snake\":\n",
    "        human_point = human_point + 1\n",
    "        print(f\"your guess {name} and computer guess is {_random} \\n\")\n",
    "        print(\"Human wins 1 point \\n\")\n",
    "        print(f\"computer_point is {computer_point} and your point is {human_point} \\n\")\n",
    "\n",
    "\n",
    "    elif name == \"gun\" and _random == \"water\":\n",
    "        computer_point = computer_point + 1\n",
    "        print(f\"your guess {name} and computer guess is {_random} \\n\")\n",
    "        print(\"computer wins 1 point \\n\")\n",
    "        print(f\"computer_point is {computer_point} and your point is {human_point} \\n \")\n",
    "\n",
    "    else:\n",
    "        print(\"you have input wrong \\n\")\n",
    "\n",
    "    no_of_chance = no_of_chance + 1\n",
    "    print(f\"{chance - no_of_chance} is left out of {chance} \\n\")\n",
    "\n",
    "print(\"Game over\")\n",
    "\n",
    "if computer_point==human_point:\n",
    "    print(\"Tie\")\n",
    "\n",
    "elif computer_point > human_point:\n",
    "    print(\"Computer wins \")\n",
    "\n",
    "else:\n",
    "    print(\"you win \")\n",
    "\n",
    "print(f\"your point is {human_point} and computer point is {computer_point}\")\n",
    "\n",
    "\n",
    "  \n"
   ]
  },
  {
   "cell_type": "code",
   "execution_count": null,
   "metadata": {},
   "outputs": [],
   "source": []
  },
  {
   "cell_type": "code",
   "execution_count": null,
   "metadata": {},
   "outputs": [],
   "source": []
  },
  {
   "cell_type": "code",
   "execution_count": null,
   "metadata": {},
   "outputs": [],
   "source": []
  }
 ],
 "metadata": {
  "kernelspec": {
   "display_name": "Python 3",
   "language": "python",
   "name": "python3"
  },
  "language_info": {
   "codemirror_mode": {
    "name": "ipython",
    "version": 3
   },
   "file_extension": ".py",
   "mimetype": "text/x-python",
   "name": "python",
   "nbconvert_exporter": "python",
   "pygments_lexer": "ipython3",
   "version": "3.8.3"
  }
 },
 "nbformat": 4,
 "nbformat_minor": 4
}
